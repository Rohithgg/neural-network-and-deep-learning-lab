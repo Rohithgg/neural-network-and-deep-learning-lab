{
 "cells": [
  {
   "metadata": {},
   "cell_type": "markdown",
   "source": [
    "# week 2\n",
    "## Feedforword Neural Networks"
   ],
   "id": "d48cbad605c28824"
  },
  {
   "metadata": {
    "ExecuteTime": {
     "end_time": "2025-03-11T13:27:46.858624Z",
     "start_time": "2025-03-11T13:27:46.855468Z"
    }
   },
   "cell_type": "code",
   "source": [
    "import numpy as np\n",
    "import matplotlib.pyplot as plt\n",
    "from sklearn.model_selection import train_test_split\n",
    "from sklearn.preprocessing import OneHotEncoder, StandardScaler\n",
    "from sklearn.datasets import load_iris"
   ],
   "id": "9a42f7302ecbc13f",
   "outputs": [],
   "execution_count": 4
  },
  {
   "metadata": {
    "ExecuteTime": {
     "end_time": "2025-03-11T13:27:46.879538Z",
     "start_time": "2025-03-11T13:27:46.872085Z"
    }
   },
   "cell_type": "code",
   "source": [
    "# load and preprocess the iris dataset\n",
    "iris = load_iris()\n",
    "X = iris.data # Features\n",
    "y = iris.target.reshape(-1, 1) # Labels reshaped for OneHotEncoder"
   ],
   "id": "b55d76fa8fb05cbf",
   "outputs": [],
   "execution_count": 5
  },
  {
   "metadata": {
    "ExecuteTime": {
     "end_time": "2025-03-11T13:27:46.886479Z",
     "start_time": "2025-03-11T13:27:46.879538Z"
    }
   },
   "cell_type": "code",
   "source": [
    "encoder = OneHotEncoder(sparse_output=False)\n",
    "y = encoder.fit_transform(y) # One-hot encode labels"
   ],
   "id": "7a61d2a0aa0b0e37",
   "outputs": [],
   "execution_count": 6
  },
  {
   "metadata": {
    "ExecuteTime": {
     "end_time": "2025-03-11T13:27:46.908290Z",
     "start_time": "2025-03-11T13:27:46.901954Z"
    }
   },
   "cell_type": "code",
   "source": [
    "scaler = StandardScaler()\n",
    "X = scaler.fit_transform(X) # Standardize features\n",
    "X_train, X_test, y_train, y_test = train_test_split(X, y, test_size=0.2, random_state=42)"
   ],
   "id": "2a41166b88f196f9",
   "outputs": [],
   "execution_count": 7
  },
  {
   "metadata": {
    "ExecuteTime": {
     "end_time": "2025-03-11T13:27:46.939765Z",
     "start_time": "2025-03-11T13:27:46.935854Z"
    }
   },
   "cell_type": "code",
   "source": [
    "# Define activation functions and their derivatives\n",
    "def sigmoid(x):\n",
    "    return 1 / (1 + np.exp(-x))\n",
    "def sigmoid_derivative(x):\n",
    "    return x * (1 - x)"
   ],
   "id": "822e60b159d7e743",
   "outputs": [],
   "execution_count": 8
  },
  {
   "metadata": {
    "ExecuteTime": {
     "end_time": "2025-03-11T13:27:46.949150Z",
     "start_time": "2025-03-11T13:27:46.941773Z"
    }
   },
   "cell_type": "code",
   "source": [
    "# define activation function and their derivatives\n",
    "class MLP:\n",
    "    def __init__(self, input_size, hidden_size, output_size, learning_rate=0.1, epochs=1000):\n",
    "        self.input_size = input_size\n",
    "        self.hidden_size = hidden_size\n",
    "        self.output_size = output_size\n",
    "        self.learning_rate = learning_rate\n",
    "        self.epochs = epochs\n",
    "\n",
    "        # Initialize weights and biases\n",
    "        self.W1 = np.random.randn(input_size, hidden_size)\n",
    "        self.b1 = np.zeros((1, hidden_size))\n",
    "        self.W2 = np.random.randn(hidden_size, output_size)\n",
    "        self.b2 = np.zeros((1, output_size))\n",
    "\n",
    "    def forward(self, X):\n",
    "        self.z1 = np.dot(X, self.W1) + self.b1\n",
    "        self.a1 = sigmoid(self.z1)\n",
    "        self.z2 = np.dot(self.a1, self.W2) + self.b2\n",
    "\n",
    "        self.a2 = sigmoid(self.z2)\n",
    "        return self.a2\n",
    "\n",
    "    def backward(self, X, y, output):\n",
    "        error = y - output\n",
    "        d_output = error * sigmoid_derivative(output)\n",
    "        error_hidden = np.dot(d_output, self.W2.T)\n",
    "        d_hidden = error_hidden * sigmoid_derivative(self.a1)\n",
    "\n",
    "        # Update weights and biases\n",
    "        self.W2 += np.dot(self.a1.T, d_output) * self.learning_rate\n",
    "        self.b2 += np.sum(d_output, axis=0, keepdims=True) * self.learning_rate\n",
    "        self.W1 += np.dot(X.T, d_hidden) * self.learning_rate\n",
    "        self.b1 += np.sum(d_hidden, axis=0, keepdims=True) * self.learning_rate\n",
    "        return np.mean(np.abs(error))\n",
    "\n",
    "    def train(self, X, y):\n",
    "        self.losses = []\n",
    "        for epoch in range(self.epochs):\n",
    "            output = self.forward(X)\n",
    "            loss = self.backward(X, y, output)\n",
    "            self.losses.append(loss)\n",
    "            if epoch % 100 == 0:\n",
    "                print(f'Epoch {epoch}, Loss: {loss:.4f}')\n",
    "\n",
    "    def predict(self, X):\n",
    "        return np.argmax(self.forward(X), axis=1)"
   ],
   "id": "26ff540054551e6e",
   "outputs": [],
   "execution_count": 9
  },
  {
   "metadata": {
    "ExecuteTime": {
     "end_time": "2025-03-11T13:27:47.034021Z",
     "start_time": "2025-03-11T13:27:46.964025Z"
    }
   },
   "cell_type": "code",
   "source": [
    "# train the MLP model\n",
    "mlp = MLP(input_size=4, hidden_size=5, output_size=3, learning_rate=0.1, epochs=1000)\n",
    "mlp.train(X_train, y_train)"
   ],
   "id": "f631c3e780f3f5c0",
   "outputs": [
    {
     "name": "stdout",
     "output_type": "stream",
     "text": [
      "Epoch 0, Loss: 0.4546\n",
      "Epoch 100, Loss: 0.0715\n",
      "Epoch 200, Loss: 0.0479\n",
      "Epoch 300, Loss: 0.0403\n",
      "Epoch 400, Loss: 0.0363\n",
      "Epoch 500, Loss: 0.0338\n",
      "Epoch 600, Loss: 0.0321\n",
      "Epoch 700, Loss: 0.0309\n",
      "Epoch 800, Loss: 0.0299\n",
      "Epoch 900, Loss: 0.0292\n"
     ]
    }
   ],
   "execution_count": 10
  },
  {
   "metadata": {
    "ExecuteTime": {
     "end_time": "2025-03-11T13:27:47.206095Z",
     "start_time": "2025-03-11T13:27:47.123223Z"
    }
   },
   "cell_type": "code",
   "source": [
    "# plot the loss\n",
    "plt.plot(mlp.losses)\n",
    "plt.xlabel('epoch')\n",
    "plt.ylabel('loss')\n",
    "plt.title('Loss vs. Epoch')\n",
    "plt.grid()\n",
    "plt.show()\n"
   ],
   "id": "38f6155d15fb52de",
   "outputs": [
    {
     "data": {
      "text/plain": [
       "<Figure size 640x480 with 1 Axes>"
      ],
      "image/png": "[encoded data removed]"
     },
     "metadata": {},
     "output_type": "display_data"
    }
   ],
   "execution_count": 11
  },
  {
   "metadata": {
    "ExecuteTime": {
     "end_time": "2025-03-11T13:30:49.326822Z",
     "start_time": "2025-03-11T13:30:49.321021Z"
    }
   },
   "cell_type": "code",
   "source": [
    "# test the MLP model\n",
    "predictions = mlp.predict(X_test)\n",
    "y_test_label = np.argmax(y_test, axis=1)\n",
    "accuracy = np.mean(predictions == y_test_label)\n",
    "print(f'Accuracy: {accuracy * 100:.2f}%')"
   ],
   "id": "21874b45ba11f2c8",
   "outputs": [
    {
     "name": "stdout",
     "output_type": "stream",
     "text": [
      "Accuracy: 1.00\n"
     ]
    }
   ],
   "execution_count": 12
  }
 ],
 "metadata": {
  "kernelspec": {
   "display_name": "Python 3",
   "language": "python",
   "name": "python3"
  },
  "language_info": {
   "codemirror_mode": {
    "name": "ipython",
    "version": 2
   },
   "file_extension": ".py",
   "mimetype": "text/x-python",
   "name": "python",
   "nbconvert_exporter": "python",
   "pygments_lexer": "ipython2",
   "version": "2.7.6"
  }
 },
 "nbformat": 4,
 "nbformat_minor": 5
}
