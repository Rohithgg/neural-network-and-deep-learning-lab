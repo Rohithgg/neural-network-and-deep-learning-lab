{
 "cells": [
  {
   "metadata": {},
   "cell_type": "markdown",
   "source": [
    "# week 5\n",
    "## convolutional neural networks CNN\n",
    "### part 2: train the cnn on simple dataset"
   ],
   "id": "693e398e5d1ca12d"
  },
  {
   "metadata": {},
   "cell_type": "markdown",
   "source": "data set from https://storage.googleapis.com/tensorflow/tf-keras-datasets/mnist.npz",
   "id": "4275b016fe0c246b"
  },
  {
   "metadata": {},
   "cell_type": "code",
   "outputs": [],
   "execution_count": null,
   "source": [
    "import numpy as np\n",
    "import tensorflow as tf\n",
    "import matplotlib.pyplot as plt\n",
    "from tensorflow.keras.datasets import mnist\n",
    "from tensorflow.keras.utils import to_categorical\n",
    "\n",
    "# Step 1: Load and preprocess the MNIST dataset\n",
    "(X_train, y_train), (X_test, y_test) = mnist.load_data()\n",
    "X_train, X_test = X_train / 255.0, X_test / 255.0 # Normalize pixel values\n",
    "X_train = X_train.reshape(-1, 28, 28, 1)\n",
    "X_test = X_test.reshape(-1, 28, 28, 1)\n",
    "\n",
    "y_train = to_categorical(y_train, 10)\n",
    "y_test = to_categorical(y_test, 10)\n",
    "\n",
    "# Step 2: Define a basic CNN model\n",
    "def build_cnn():\n",
    "model = tf.keras.Sequential([\n",
    "tf.keras.layers.Conv2D(32, kernel_size=(3, 3), activation=&#39;relu&#39;, input_shape=(28, 28, 1)),\n",
    "tf.keras.layers.MaxPooling2D(pool_size=(2, 2)),\n",
    "tf.keras.layers.Conv2D(64, kernel_size=(3, 3), activation=&#39;relu&#39;),\n",
    "tf.keras.layers.MaxPooling2D(pool_size=(2, 2)),\n",
    "tf.keras.layers.Flatten(),\n",
    "tf.keras.layers.Dense(128, activation=&#39;relu&#39;),\n",
    "tf.keras.layers.Dense(10, activation=&#39;softmax&#39;)\n",
    "])\n",
    "\n",
    "model.compile(optimizer=tf.keras.optimizers.Adam(learning_rate=0.001),\n",
    "loss=&#39;categorical_crossentropy&#39;,\n",
    "\n",
    "metrics=[&#39;accuracy&#39;])\n",
    "return model\n",
    "\n",
    "# Step 3: Train and evaluate the CNN\n",
    "cnn_model = build_cnn()\n",
    "history = cnn_model.fit(X_train, y_train, epochs=10, batch_size=32, validation_data=(X_test, y_test))\n",
    "\n",
    "# Step 4: Plot training history\n",
    "plt.plot(history.history[&#39;accuracy&#39;], label=&#39;Train Accuracy&#39;)\n",
    "plt.plot(history.history[&#39;val_accuracy&#39;], label=&#39;Test Accuracy&#39;)\n",
    "plt.xlabel(&#39;Epochs&#39;)\n",
    "plt.ylabel(&#39;Accuracy&#39;)\n",
    "plt.title(&#39;CNN Training Performance on MNIST&#39;)\n",
    "plt.legend()\n",
    "plt.show()\n",
    "\n",
    "# Step 5: Evaluate the final model\n",
    "final_accuracy = cnn_model.evaluate(X_test, y_test, verbose=0)[1] * 100\n",
    "print(f&#39;Final Test Accuracy: {final_accuracy:.2f}%&#39;)"
   ],
   "id": "73f984ae9650adf8"
  }
 ],
 "metadata": {
  "kernelspec": {
   "display_name": "Python 3",
   "language": "python",
   "name": "python3"
  },
  "language_info": {
   "codemirror_mode": {
    "name": "ipython",
    "version": 2
   },
   "file_extension": ".py",
   "mimetype": "text/x-python",
   "name": "python",
   "nbconvert_exporter": "python",
   "pygments_lexer": "ipython2",
   "version": "2.7.6"
  }
 },
 "nbformat": 4,
 "nbformat_minor": 5
}
