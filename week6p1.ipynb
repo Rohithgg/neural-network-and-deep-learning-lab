{
 "cells": [
  {
   "metadata": {},
   "cell_type": "markdown",
   "source": [
    "# week 6\n",
    "## pooling and dropout in CNNs\n",
    "### part 1: implement max pooling and dropout in the CNN model"
   ],
   "id": "afd1a4abbd96d446"
  },
  {
   "metadata": {},
   "cell_type": "code",
   "outputs": [],
   "execution_count": null,
   "source": [
    "import numpy as np\n",
    "import tensorflow as tf\n",
    "import matplotlib.pyplot as plt\n",
    "import cv2\n",
    "from google.colab.patches import cv2_imshow # For displaying images in Colab\n",
    "\n",
    "# Step 1: Load an image from a URL or upload manually\n",
    "image_path = tf.keras.utils.get_file(&quot;cat.jpg&quot;,&quot;https://upload.wikimedia.org/wikipedia/commons/3/3a/Cat03.jpg&quot;)\n",
    "\n",
    "# Step 2: Read and preprocess the image\n",
    "image = cv2.imread(image_path, cv2.IMREAD_GRAYSCALE) # Convert to grayscale\n",
    "image = cv2.resize(image, (128, 128)) # Resize for consistency\n",
    "image = image.astype(np.float32) / 255.0 # Normalize pixel values (0 to 1)\n",
    "\n",
    "# Step 3: Reshape to (1, height, width, 1) for CNN compatibility\n",
    "input_image = np.expand_dims(image, axis=(0, -1))\n",
    "\n",
    "# Step 4: Define Max Pooling and Average Pooling layers\n",
    "max_pool = tf.keras.layers.MaxPooling2D(pool_size=(2, 2), strides=2)\n",
    "avg_pool = tf.keras.layers.AveragePooling2D(pool_size=(2, 2), strides=2)\n",
    "\n",
    "# Step 5: Apply pooling operations\n",
    "max_pooled_image = max_pool(input_image).numpy().squeeze()\n",
    "avg_pooled_image = avg_pool(input_image).numpy().squeeze()\n",
    "\n",
    "# Step 6: Plot the results\n",
    "fig, axes = plt.subplots(1, 3, figsize=(12, 4))\n",
    "\n",
    "# Original Image\n",
    "axes[0].imshow(image, cmap=&#39;gray&#39;)\n",
    "axes[0].set_title(&quot;Original Image (128x128)&quot;)\n",
    "axes[0].axis(&quot;off&quot;)\n",
    "\n",
    "# Max Pooled Image\n",
    "axes[1].imshow(max_pooled_image, cmap=&#39;gray&#39;)\n",
    "axes[1].set_title(&quot;Max Pooled (64x64)&quot;)\n",
    "axes[1].axis(&quot;off&quot;)\n",
    "\n",
    "# Average Pooled Image\n",
    "axes[2].imshow(avg_pooled_image, cmap=&#39;gray&#39;)\n",
    "axes[2].set_title(&quot;Average Pooled (64x64)&quot;)\n",
    "axes[2].axis(&quot;off&quot;)\n",
    "\n",
    "plt.show()\n",
    "\n",
    "# Step 7: Print shapes for verification\n",
    "print(&quot;Original Image Shape:&quot;, image.shape)\n",
    "print(&quot;Max Pooled Shape:&quot;, max_pooled_image.shape)\n",
    "print(&quot;Average Pooled Shape:&quot;, avg_pooled_image.shape)"
   ],
   "id": "a05ae8d8eaac9645"
  }
 ],
 "metadata": {
  "kernelspec": {
   "display_name": "Python 3",
   "language": "python",
   "name": "python3"
  },
  "language_info": {
   "codemirror_mode": {
    "name": "ipython",
    "version": 2
   },
   "file_extension": ".py",
   "mimetype": "text/x-python",
   "name": "python",
   "nbconvert_exporter": "python",
   "pygments_lexer": "ipython2",
   "version": "2.7.6"
  }
 },
 "nbformat": 4,
 "nbformat_minor": 5
}
