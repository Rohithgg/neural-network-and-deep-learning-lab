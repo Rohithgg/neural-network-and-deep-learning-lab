{
 "cells": [
  {
   "metadata": {},
   "cell_type": "markdown",
   "source": [
    "# week 7\n",
    "## recurrent neural networks(RNNs)\n",
    "### part 2: Experiment with different sequence lengths and hidden units.\n"
   ],
   "id": "936a8881890905a6"
  },
  {
   "metadata": {
    "ExecuteTime": {
     "end_time": "2025-03-12T10:46:45.715790Z",
     "start_time": "2025-03-12T10:46:45.662628Z"
    }
   },
   "cell_type": "code",
   "source": [
    "import numpy as np\n",
    "import matplotlib.pyplot as plt\n",
    "import tensorflow as tf\n",
    "from tensorflow import keras\n",
    "from tensorflow.keras.models import Sequential\n",
    "from tensorflow.keras.layers import SimpleRNN, Dense"
   ],
   "id": "85a2bf513a22a955",
   "outputs": [],
   "execution_count": 5
  },
  {
   "metadata": {
    "ExecuteTime": {
     "end_time": "2025-03-12T10:46:45.743746Z",
     "start_time": "2025-03-12T10:46:45.739944Z"
    }
   },
   "cell_type": "code",
   "source": [
    "# Generate synthetic sine wave data\n",
    "def generate_sine_wave(seq_length, num_samples):\n",
    "  X, y = [], []\n",
    "  for _ in range(num_samples):\n",
    "        start = np.random.rand() * 2 * np.pi # Random start point\n",
    "        seq = np.array([np.sin(start + i) for i in range(seq_length + 1)])\n",
    "        X.append(seq[:-1])\n",
    "        y.append(seq[-1])\n",
    "  return np.array(X), np.array(y)"
   ],
   "id": "97c1646695a34726",
   "outputs": [],
   "execution_count": 6
  },
  {
   "metadata": {
    "ExecuteTime": {
     "end_time": "2025-03-12T10:46:45.962122Z",
     "start_time": "2025-03-12T10:46:45.745707Z"
    }
   },
   "cell_type": "code",
   "source": [
    "# Experimenting with different sequence lengths and hidden units\n",
    "seq_lengths = [30, 50, 70]\n",
    "hidden_units = [20, 50, 100]\n",
    "\n",
    "for seq_length in seq_lengths:\n",
    "      for units in hidden_units:\n",
    "        print(f\"Training with sequence length {seq_length} and {units} hidden units\")\n",
    "        # Generate new dataset for each sequence length\n",
    "        X, y = generate_sine_wave(seq_length, num_samples)# error idk\n",
    "        X = X.reshape((X.shape[0], X.shape[1], 1))\n",
    "        test_size = int(0.2 * num_samples)\n",
    "        X_train, X_test = X[:-test_size], X[-test_size:]\n",
    "        y_train, y_test = y[:-test_size], y[-test_size:]\n",
    "        # Build RNN model\n",
    "        model = Sequential([\n",
    "          SimpleRNN(units, activation='tanh', input_shape=(seq_length, 1)),\n",
    "          Dense(1)\n",
    "        ])"
   ],
   "id": "88d85e11d1f9ad6a",
   "outputs": [
    {
     "name": "stdout",
     "output_type": "stream",
     "text": [
      "Training with sequence length 30 and 20 hidden units\n"
     ]
    },
    {
     "ename": "NameError",
     "evalue": "name 'num_samples' is not defined",
     "output_type": "error",
     "traceback": [
      "\u001B[0;31m---------------------------------------------------------------------------\u001B[0m",
      "\u001B[0;31mNameError\u001B[0m                                 Traceback (most recent call last)",
      "Cell \u001B[0;32mIn[7], line 9\u001B[0m\n\u001B[1;32m      7\u001B[0m \u001B[38;5;28mprint\u001B[39m(\u001B[38;5;124mf\u001B[39m\u001B[38;5;124m\"\u001B[39m\u001B[38;5;124mTraining with sequence length \u001B[39m\u001B[38;5;132;01m{\u001B[39;00mseq_length\u001B[38;5;132;01m}\u001B[39;00m\u001B[38;5;124m and \u001B[39m\u001B[38;5;132;01m{\u001B[39;00munits\u001B[38;5;132;01m}\u001B[39;00m\u001B[38;5;124m hidden units\u001B[39m\u001B[38;5;124m\"\u001B[39m)\n\u001B[1;32m      8\u001B[0m \u001B[38;5;66;03m# Generate new dataset for each sequence length\u001B[39;00m\n\u001B[0;32m----> 9\u001B[0m X, y \u001B[38;5;241m=\u001B[39m generate_sine_wave(seq_length, \u001B[43mnum_samples\u001B[49m)\u001B[38;5;66;03m# error idk\u001B[39;00m\n\u001B[1;32m     10\u001B[0m X \u001B[38;5;241m=\u001B[39m X\u001B[38;5;241m.\u001B[39mreshape((X\u001B[38;5;241m.\u001B[39mshape[\u001B[38;5;241m0\u001B[39m], X\u001B[38;5;241m.\u001B[39mshape[\u001B[38;5;241m1\u001B[39m], \u001B[38;5;241m1\u001B[39m))\n\u001B[1;32m     11\u001B[0m test_size \u001B[38;5;241m=\u001B[39m \u001B[38;5;28mint\u001B[39m(\u001B[38;5;241m0.2\u001B[39m \u001B[38;5;241m*\u001B[39m num_samples)\n",
      "\u001B[0;31mNameError\u001B[0m: name 'num_samples' is not defined"
     ]
    }
   ],
   "execution_count": 7
  },
  {
   "metadata": {},
   "cell_type": "code",
   "outputs": [],
   "execution_count": null,
   "source": [
    "# Compile model\n",
    "model.compile(optimizer='adam', loss='mse')\n",
    "# Train model\n",
    "history = model.fit(X_train, y_train, epochs=20, batch_size=16, validation_data=(X_test, y_test), verbose=0)"
   ],
   "id": "1ae72aba3ee31f85"
  },
  {
   "metadata": {},
   "cell_type": "code",
   "outputs": [],
   "execution_count": null,
   "source": [
    "# Plot training history\n",
    "plt.figure(figsize=(10, 4))\n",
    "plt.plot(history.history['loss'], label='Train Loss')\n",
    "plt.plot(history.history['val_loss'], label='Validation Loss')\n",
    "plt.legend()\n",
    "plt.title(f\"Loss Curve (Seq Length: {seq_length}, Units: {units})\")\n",
    "plt.show()"
   ],
   "id": "fdbaf177a6dba86a"
  },
  {
   "metadata": {},
   "cell_type": "code",
   "outputs": [],
   "execution_count": null,
   "source": [
    "# Evaluate model\n",
    "predictions = model.predict(X_test)\n",
    "plt.figure(figsize=(10, 5))\n",
    "plt.plot(y_test, label='True Values', color='blue')\n",
    "plt.plot(predictions, label='Predictions', color='orange')\n",
    "plt.legend()\n",
    "plt.xlabel(\"Sample Index\")\n",
    "plt.ylabel(\"Value\")\n",
    "plt.title(f\"True vs Predicted Values (Seq Length: {seq_length}, Units: {units})\")\n",
    "plt.show()\n"
   ],
   "id": "f807192c2c37b5f1"
  }
 ],
 "metadata": {
  "kernelspec": {
   "display_name": "Python 3",
   "language": "python",
   "name": "python3"
  },
  "language_info": {
   "codemirror_mode": {
    "name": "ipython",
    "version": 2
   },
   "file_extension": ".py",
   "mimetype": "text/x-python",
   "name": "python",
   "nbconvert_exporter": "python",
   "pygments_lexer": "ipython2",
   "version": "2.7.6"
  }
 },
 "nbformat": 4,
 "nbformat_minor": 5
}
