{
 "cells": [
  {
   "metadata": {},
   "cell_type": "markdown",
   "source": [
    "# week 8\n",
    "## long short-term memory LSTM\n",
    "### part 1: implement LSTM network for time series forecasting or text generation"
   ],
   "id": "6ee9e4519b0c3c89"
  },
  {
   "metadata": {},
   "cell_type": "code",
   "outputs": [],
   "execution_count": null,
   "source": [
    "import numpy as np\n",
    "import tensorflow as tf\n",
    "import matplotlib.pyplot as plt\n",
    "from tensorflow.keras.models import Sequential\n",
    "from tensorflow.keras.layers import LSTM, Dense"
   ],
   "id": "6aaade42627e0e88"
  },
  {
   "metadata": {},
   "cell_type": "code",
   "outputs": [],
   "execution_count": null,
   "source": [
    "# Generate synthetic sine wave data\n",
    "def generate_sine_wave(seq_length, num_samples):\n",
    "    X, y = [], []\n",
    "    for _ in range(num_samples):\n",
    "        start = np.random.rand() * 2 * np.pi # Random start point\n",
    "    seq = np.array([np.sin(start + i) for i in range(seq_length + 1)])\n",
    "    X.append(seq[:-1])\n",
    "    y.append(seq[-1])\n",
    "    return np.array(X), np.array(y)"
   ],
   "id": "8908d7f8db264543"
  },
  {
   "metadata": {},
   "cell_type": "code",
   "outputs": [],
   "execution_count": null,
   "source": "",
   "id": "dec6fcfac43277b3"
  }
 ],
 "metadata": {
  "kernelspec": {
   "display_name": "Python 3",
   "language": "python",
   "name": "python3"
  },
  "language_info": {
   "codemirror_mode": {
    "name": "ipython",
    "version": 2
   },
   "file_extension": ".py",
   "mimetype": "text/x-python",
   "name": "python",
   "nbconvert_exporter": "python",
   "pygments_lexer": "ipython2",
   "version": "2.7.6"
  }
 },
 "nbformat": 4,
 "nbformat_minor": 5
}
