{
 "cells": [
  {
   "metadata": {},
   "cell_type": "markdown",
   "source": [
    "# week 5\n",
    "## convolutional neural networks CNN\n",
    "### part 1: implement the bacis CNN framework like tensorflow or pytorch"
   ],
   "id": "d5e3d44bbb75b02f"
  },
  {
   "metadata": {},
   "cell_type": "code",
   "outputs": [],
   "execution_count": null,
   "source": [
    "import numpy as np\n",
    "import tensorflow as tf\n",
    "import matplotlib.pyplot as plt\n",
    "from sklearn.model_selection import train_test_split\n",
    "from sklearn.preprocessing import OneHotEncoder, StandardScaler\n",
    "from sklearn.datasets import make_moons\n",
    "\n",
    "# Step 1: Generate a simple classification dataset\n",
    "X, y = make_moons(n_samples=500, noise=0.2, random_state=42)\n",
    "y = y.reshape(-1, 1)  # Reshape for OneHotEncoder\n",
    "\n",
    "encoder = OneHotEncoder(sparse_output=False)\n",
    "y = encoder.fit_transform(y)  # One-hot encode labels\n",
    "\n",
    "scaler = StandardScaler()\n",
    "X = scaler.fit_transform(X)  # Standardize features\n",
    "\n",
    "X_train, X_test, y_train, y_test = train_test_split(X, y, test_size=0.2, random_state=42)\n",
    "\n",
    "# Step 2: Define a basic CNN model\n",
    "def build_cnn():\n",
    "    model = tf.keras.Sequential([\n",
    "        tf.keras.layers.Reshape((2, 1), input_shape=(2,)),  # Reshape for Conv1D\n",
    "        tf.keras.layers.Conv1D(16, kernel_size=1, activation=&#39;relu&#39;),\n",
    "        tf.keras.layers.Flatten(),\n",
    "        tf.keras.layers.Dense(10, activation=&#39;relu&#39;),\n",
    "        tf.keras.layers.Dense(2, activation=&#39;softmax&#39;)\n",
    "    ])\n",
    "\n",
    "   \n",
    "    model.compile(optimizer=tf.keras.optimizers.Adam(learning_rate=0.01),\n",
    "                  loss=&#39;categorical_crossentropy&#39;,\n",
    "                  metrics=[&#39;accuracy&#39;])\n",
    "    return model\n",
    "\n",
    "# Step 3: Train and evaluate the CNN\n",
    "cnn_model = build_cnn()\n",
    "history = cnn_model.fit(X_train, y_train, epochs=50, batch_size=16, validation_data=(X_test, y_test))\n",
    "\n",
    "# Step 4: Plot training history\n",
    "plt.plot(history.history[&#39;accuracy&#39;], label=&#39;Train Accuracy&#39;)\n",
    "plt.plot(history.history[&#39;val_accuracy&#39;], label=&#39;Test Accuracy&#39;)\n",
    "plt.xlabel(&#39;Epochs&#39;)\n",
    "plt.ylabel(&#39;Accuracy&#39;)\n",
    "plt.title(&#39;CNN Training Performance&#39;)\n",
    "plt.legend()\n",
    "plt.show()\n",
    "\n",
    "# Step 5: Evaluate the final model\n",
    "final_accuracy = cnn_model.evaluate(X_test, y_test, verbose=0)[1] * 100\n",
    "print(f&#39;Final Test Accuracy: {final_accuracy:.2f}%&#39;)"
   ],
   "id": "5bf923b24c6b9d98"
  }
 ],
 "metadata": {
  "kernelspec": {
   "display_name": "Python 3",
   "language": "python",
   "name": "python3"
  },
  "language_info": {
   "codemirror_mode": {
    "name": "ipython",
    "version": 2
   },
   "file_extension": ".py",
   "mimetype": "text/x-python",
   "name": "python",
   "nbconvert_exporter": "python",
   "pygments_lexer": "ipython2",
   "version": "2.7.6"
  }
 },
 "nbformat": 4,
 "nbformat_minor": 5
}
